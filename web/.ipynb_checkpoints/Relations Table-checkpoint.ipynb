{
 "cells": [
  {
   "cell_type": "code",
   "execution_count": 1,
   "metadata": {},
   "outputs": [],
   "source": [
    "from django.contrib.auth.models import User\n",
    "from orm.models import Member, Club, CityDistrict\n"
   ]
  },
  {
   "cell_type": "code",
   "execution_count": 2,
   "metadata": {},
   "outputs": [],
   "source": [
    "cd = CityDistrict()\n",
    "cd.name = 'Mataram'\n",
    "cd.save()"
   ]
  },
  {
   "cell_type": "code",
   "execution_count": 3,
   "metadata": {},
   "outputs": [],
   "source": [
    "cd = CityDistrict()\n",
    "cd.name = 'Lombok Barat'\n",
    "cd.save()"
   ]
  },
  {
   "cell_type": "code",
   "execution_count": 4,
   "metadata": {},
   "outputs": [],
   "source": [
    "cd = CityDistrict()\n",
    "cd.name = 'Lombok Timur'\n",
    "cd.save()"
   ]
  },
  {
   "cell_type": "code",
   "execution_count": 5,
   "metadata": {},
   "outputs": [
    {
     "data": {
      "text/plain": [
       "<CityDistrict: Mataram>"
      ]
     },
     "execution_count": 5,
     "metadata": {},
     "output_type": "execute_result"
    }
   ],
   "source": [
    "ct = CityDistrict.objects.filter(name = 'Mataram').first()\n",
    "ct"
   ]
  },
  {
   "cell_type": "code",
   "execution_count": 7,
   "metadata": {},
   "outputs": [
    {
     "ename": "AttributeError",
     "evalue": "'Club' object has no attribute 'sava'",
     "output_type": "error",
     "traceback": [
      "\u001b[0;31m---------------------------------------------------------------------------\u001b[0m",
      "\u001b[0;31mAttributeError\u001b[0m                            Traceback (most recent call last)",
      "\u001b[0;32m<ipython-input-7-1fcc8bfa58a6>\u001b[0m in \u001b[0;36m<module>\u001b[0;34m()\u001b[0m\n\u001b[1;32m      7\u001b[0m \u001b[0mcl\u001b[0m\u001b[0;34m.\u001b[0m\u001b[0mleader\u001b[0m \u001b[0;34m=\u001b[0m \u001b[0;34m'hermianto Agus Saputra'\u001b[0m\u001b[0;34m\u001b[0m\u001b[0m\n\u001b[1;32m      8\u001b[0m \u001b[0mcl\u001b[0m\u001b[0;34m.\u001b[0m\u001b[0mslogan\u001b[0m \u001b[0;34m=\u001b[0m \u001b[0;34m'Ayo Memanah Ayo Hidupkan Sunnah'\u001b[0m\u001b[0;34m\u001b[0m\u001b[0m\n\u001b[0;32m----> 9\u001b[0;31m \u001b[0mcl\u001b[0m\u001b[0;34m.\u001b[0m\u001b[0msava\u001b[0m\u001b[0;34m(\u001b[0m\u001b[0;34m)\u001b[0m\u001b[0;34m\u001b[0m\u001b[0m\n\u001b[0m",
      "\u001b[0;31mAttributeError\u001b[0m: 'Club' object has no attribute 'sava'"
     ]
    }
   ],
   "source": [
    "cl = Club()\n",
    "cl.name = 'Artihu Archery'\n",
    "cl.register_number = '223412'\n",
    "cl.since = '2016'\n",
    "cl.secretariat = 'JL Wisma Seruni IV No.32'\n",
    "cl.city_district = ct\n",
    "cl.leader = 'hermianto Agus Saputra'\n",
    "cl.slogan = 'Ayo Memanah Ayo Hidupkan Sunnah'\n",
    "cl.sava()\n"
   ]
  },
  {
   "cell_type": "code",
   "execution_count": 9,
   "metadata": {},
   "outputs": [],
   "source": [
    "cl = Club()\n",
    "cl.name = 'Artihu Archery'\n",
    "cl.register_number = '223412'\n",
    "cl.since = '2016'\n",
    "cl.secretariat = 'JL Wisma Seruni IV No.32'\n",
    "cl.city_district = ct\n",
    "cl.leader = 'hermianto Agus Saputra'\n",
    "cl.slogan = 'Ayo Memanah Ayo Hidupkan Sunnah'\n",
    "cl.save()"
   ]
  },
  {
   "cell_type": "code",
   "execution_count": 13,
   "metadata": {},
   "outputs": [
    {
     "data": {
      "text/plain": [
       "<User: saputra>"
      ]
     },
     "execution_count": 13,
     "metadata": {},
     "output_type": "execute_result"
    }
   ],
   "source": [
    "u = User.objects.filter(username='saputra').first()\n",
    "u"
   ]
  },
  {
   "cell_type": "code",
   "execution_count": 15,
   "metadata": {},
   "outputs": [],
   "source": [
    "m = Member()\n",
    "m.user = u \n",
    "m.club = cl\n",
    "\n",
    "m.name  = 'Hermianto Agus Saputra'\n",
    "m.adress = 'Mataram'\n",
    "m.gender = 'Pria'\n",
    "m.save()"
   ]
  },
  {
   "cell_type": "code",
   "execution_count": 16,
   "metadata": {},
   "outputs": [
    {
     "data": {
      "text/plain": [
       "<Member: Hermianto Agus Saputra>"
      ]
     },
     "execution_count": 16,
     "metadata": {},
     "output_type": "execute_result"
    }
   ],
   "source": [
    "m"
   ]
  },
  {
   "cell_type": "code",
   "execution_count": null,
   "metadata": {},
   "outputs": [],
   "source": []
  }
 ],
 "metadata": {
  "kernelspec": {
   "display_name": "Django Shell-Plus",
   "language": "python",
   "name": "django_extensions"
  },
  "language_info": {
   "codemirror_mode": {
    "name": "ipython",
    "version": 3
   },
   "file_extension": ".py",
   "mimetype": "text/x-python",
   "name": "python",
   "nbconvert_exporter": "python",
   "pygments_lexer": "ipython3",
   "version": "3.5.4"
  }
 },
 "nbformat": 4,
 "nbformat_minor": 2
}
